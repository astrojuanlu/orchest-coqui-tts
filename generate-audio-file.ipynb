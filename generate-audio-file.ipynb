{
 "cells": [
  {
   "cell_type": "code",
   "execution_count": 1,
   "metadata": {},
   "outputs": [],
   "source": [
    "import orchest\n",
    "from utils import generate_audio_file"
   ]
  },
  {
   "cell_type": "code",
   "execution_count": 2,
   "metadata": {},
   "outputs": [],
   "source": [
    "output_file_location = \"output/speaker.wav\""
   ]
  },
  {
   "cell_type": "code",
   "execution_count": 3,
   "metadata": {},
   "outputs": [],
   "source": [
    "message = orchest.get_inputs()[\"message\"]"
   ]
  },
  {
   "cell_type": "code",
   "execution_count": 4,
   "metadata": {},
   "outputs": [
    {
     "name": "stdout",
     "output_type": "stream",
     "text": [
      "tts --text 'Hello world' --model_name 'tts_models/en/vctk/vits' --out_path output/speaker.wav --speaker_idx p228\n"
     ]
    },
    {
     "name": "stdout",
     "output_type": "stream",
     "text": [
      " > tts_models/en/vctk/vits is already downloaded.\n",
      " > Using model: vits\n",
      " > Speaker manager is loaded with 109 speakers: ED\n",
      ", p225, p226, p227, p228, p229, p230, p231, p232, p233, p234, p236, p237, p238, p239, p240, p241, p243, p244, p245, p246, p247, p248, p249, p250, p251, p252, p253, p254, p255, p256, p257, p258, p259, p260, p261, p262, p263, p264, p265, p266, p267, p268, p269, p270, p271, p272, p273, p274, p275, p276, p277, p278, p279, p280, p281, p282, p283, p284, p285, p286, p287, p288, p292, p293, p294, p295, p297, p298, p299, p300, p301, p302, p303, p304, p305, p306, p307, p308, p310, p311, p312, p313, p314, p316, p317, p318, p323, p326, p329, p330, p333, p334, p335, p336, p339, p340, p341, p343, p345, p347, p351, p360, p361, p362, p363, p364, p374, p376\n",
      " > Text: Hello world\n",
      " > Text splitted to sentences.\n",
      "['Hello world']\n",
      " > Processing time: 1.1187629699707031\n",
      " > Real-time factor: 0.8755225542253693\n",
      " > Saving output to output/speaker.wav\n",
      "\n"
     ]
    }
   ],
   "source": [
    "generate_audio_file(message['text'], output_file_location)"
   ]
  },
  {
   "cell_type": "code",
   "execution_count": 5,
   "metadata": {},
   "outputs": [],
   "source": [
    "orchest.output({\"path\": output_file_location, \"title\": message['title']}, name=\"audio_file\")"
   ]
  }
 ],
 "metadata": {
  "kernelspec": {
   "display_name": "Python 3",
   "language": "python",
   "name": "orchest-kernel-81cf46ae-30f6-498e-a857-14de21b9f4d0"
  },
  "language_info": {
   "codemirror_mode": {
    "name": "ipython",
    "version": 3
   },
   "file_extension": ".py",
   "mimetype": "text/x-python",
   "name": "python",
   "nbconvert_exporter": "python",
   "pygments_lexer": "ipython3",
   "version": "3.7.6"
  }
 },
 "nbformat": 4,
 "nbformat_minor": 4
}
