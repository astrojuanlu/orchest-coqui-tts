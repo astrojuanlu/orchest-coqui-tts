{
 "cells": [
  {
   "cell_type": "code",
   "execution_count": 1,
   "metadata": {},
   "outputs": [],
   "source": [
    "%load_ext autoreload\n",
    "%autoreload 2"
   ]
  },
  {
   "cell_type": "code",
   "execution_count": 2,
   "metadata": {},
   "outputs": [],
   "source": [
    "import orchest\n",
    "import os\n",
    "\n",
    "from utils import send_discord_file, send_slack_file"
   ]
  },
  {
   "cell_type": "code",
   "execution_count": 3,
   "metadata": {},
   "outputs": [],
   "source": [
    "audio_file = orchest.get_inputs()[\"audio_file\"]"
   ]
  },
  {
   "cell_type": "code",
   "execution_count": 4,
   "metadata": {},
   "outputs": [],
   "source": [
    "def send_discord(audio_file):\n",
    "    if os.getenv(\"DISCORD_BOT_TOKEN\") is None:\n",
    "        print(\"Missing DISCORD_BOT_TOKEN\")\n",
    "        return\n",
    "\n",
    "    send_discord_file(audio_file[\"path\"], audio_file[\"title\"])"
   ]
  },
  {
   "cell_type": "code",
   "execution_count": 5,
   "metadata": {},
   "outputs": [],
   "source": [
    "def send_slack(audio_file):\n",
    "    if os.getenv(\"SLACK_BOT_TOKEN\") is None:\n",
    "        print(\"Missing SLACK_BOT_TOKEN\")\n",
    "        return\n",
    "    \n",
    "    send_slack_file(audio_file[\"path\"], audio_file[\"title\"])"
   ]
  },
  {
   "cell_type": "code",
   "execution_count": 6,
   "metadata": {},
   "outputs": [
    {
     "name": "stdout",
     "output_type": "stream",
     "text": [
      "Missing SLACK_BOT_TOKEN\n"
     ]
    }
   ],
   "source": [
    "for platform in orchest.get_step_param(\"platforms\"):\n",
    "    if platform == \"slack\":\n",
    "        send_slack(audio_file)\n",
    "    elif platform == \"discord\":\n",
    "        send_discord(audio_file)"
   ]
  }
 ],
 "metadata": {
  "kernelspec": {
   "display_name": "Python 3",
   "language": "python",
   "name": "orchest-kernel-81cf46ae-30f6-498e-a857-14de21b9f4d0"
  },
  "language_info": {
   "codemirror_mode": {
    "name": "ipython",
    "version": 3
   },
   "file_extension": ".py",
   "mimetype": "text/x-python",
   "name": "python",
   "nbconvert_exporter": "python",
   "pygments_lexer": "ipython3",
   "version": "3.7.6"
  }
 },
 "nbformat": 4,
 "nbformat_minor": 4
}
